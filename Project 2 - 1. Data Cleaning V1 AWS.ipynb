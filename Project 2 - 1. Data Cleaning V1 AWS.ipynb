{
 "cells": [
  {
   "cell_type": "code",
   "execution_count": 1,
   "id": "06f79096",
   "metadata": {},
   "outputs": [
    {
     "data": {
      "text/plain": [
       "array([4.65e-03, 2.53e+00, 1.25e+02, 1.36e-02, 1.04e+01, 1.24e+02,\n",
       "       9.30e-03, 6.30e+00, 8.09e+01])"
      ]
     },
     "execution_count": 1,
     "metadata": {},
     "output_type": "execute_result"
    }
   ],
   "source": [
    "import numpy as np\n",
    "np.median(np.array([[0.00299,2.06,125.0,0.0177,10.4,122.0,0.0093,10.9,84.1],[0.00631,2.53,125.0,0.00844,4.67,126.0,0.0103,6.3,80.9],[0.00465,3.92,109.0,0.0136,12.0,124.0,0.00498,2.13,79.6]]), axis=0)"
   ]
  },
  {
   "cell_type": "markdown",
   "id": "0ae1117f",
   "metadata": {},
   "source": [
    "### Testing data cleaning codes on one json item"
   ]
  },
  {
   "cell_type": "code",
   "execution_count": 2,
   "id": "597a46aa",
   "metadata": {},
   "outputs": [],
   "source": [
    "# import json\n",
    "# import numpy as np\n",
    "# import pandas as pd\n",
    "# with open('data_test.json') as train_file:\n",
    "#     data = json.load(train_file)"
   ]
  },
  {
   "cell_type": "code",
   "execution_count": 3,
   "id": "48205c87",
   "metadata": {},
   "outputs": [],
   "source": [
    "# transcript_name = []\n",
    "# position_num = []\n",
    "# bases_corresponding_to_position = []\n",
    "# df = pd.DataFrame(columns=['Transcript Name', 'Position', 'Bases', 'SD', 'Mean', 'Dwelling Time'])\n",
    "# for k, v in data.items(): # obtain transcript name and rest of the items\n",
    "#     print(k)\n",
    "#     print(v)\n",
    "#     transcript_name.append(k)\n",
    "#     transcript_name = transcript_name * 3\n",
    "#     transcript_name = pd.DataFrame(transcript_name, columns=['Transcript Name'])\n",
    "#     print('')\n",
    "#     for i,j in v.items(): # obtain position and rest of items\n",
    "#         print(i)\n",
    "#         print(j)\n",
    "#         position_num.append(int(i) - 1)\n",
    "#         position_num.append(int(i))\n",
    "#         position_num.append(int(i) + 1)\n",
    "#         position_num = pd.DataFrame(position_num, columns = ['Position'])\n",
    "#         print('')\n",
    "#         for a,b in j.items(): # obtain bases and measurements - dwell time, etc.\n",
    "#             print(\"a\", a)\n",
    "#             print(\"b\", b)\n",
    "#             bases_corresponding_to_position.append(a[:5])\n",
    "#             bases_corresponding_to_position.append(a[1:6])\n",
    "#             bases_corresponding_to_position.append(a[2:])\n",
    "#             bases_corresponding_to_position = pd.DataFrame(bases_corresponding_to_position, columns = ['Bases'])\n",
    "            \n",
    "#             arr = np.array(b)\n",
    "#             mean_measurement_res = np.mean(arr, axis=0)\n",
    "#             print(mean_measurement_res)\n",
    "#             measurement_first_pos = mean_measurement_res[0:3]\n",
    "#             measurement_second_pos = mean_measurement_res[3:6]\n",
    "#             measurement_third_pos = mean_measurement_res[6:]\n",
    "            \n",
    "#             measurement_first_pos = measurement_first_pos.reshape(1,3)\n",
    "#             measurement_second_pos = measurement_second_pos.reshape(1,3)\n",
    "#             measurement_third_pos = measurement_third_pos.reshape(1,3)\n",
    "#             measurement_first_pos = pd.DataFrame.from_records(measurement_first_pos, columns = ['Dwelling Time', 'SD', 'Mean'])\n",
    "#             measurement_second_pos = pd.DataFrame.from_records(measurement_second_pos, columns = ['Dwelling Time', 'SD', 'Mean'])\n",
    "#             measurement_third_pos = pd.DataFrame.from_records(measurement_third_pos, columns = ['Dwelling Time', 'SD', 'Mean'])\n",
    "            \n",
    "#             all_measurement = pd.concat([measurement_first_pos, measurement_second_pos, measurement_third_pos], axis=0).reset_index(drop=True)\n",
    "#             full_df = pd.concat([transcript_name, position_num, bases_corresponding_to_position, all_measurement], axis=1)\n",
    "            \n",
    "#             print(full_df)"
   ]
  },
  {
   "cell_type": "markdown",
   "id": "f9e3b5a3",
   "metadata": {},
   "source": [
    "### Data cleaning codes for all the json items\n",
    "\n",
    "Read measurements are given in the following form: `[0.00299,2.06,125.0,0.0177,10.4,122.0,0.0093,10.9,84.1]`. We can interpret the numbers as such:\n",
    "- 1st, 4th and 7th item refers to the dwelling time of the 5-mer nucleotides\n",
    "- 2nd, 5th and 8th item refers to the standard deviation of the direct RNA current \n",
    "- 3rd, 6th and 9th item refers to the mean of the direct RNA current\n",
    "\n",
    "For each read we have extracted features from segments corresponding to 1-neighboring position and this results in a total of 9 features for each read (3 features for position 243, followed by 3 features for positions 244 and 245 respectively).\n",
    "\n",
    "Since there are variable number of reads for each position, will be trying to obtain the **mean/ median** values across all the reads. E.g., if the measurements are `[0.00299,2.06,125.0,0.0177,10.4,122.0,0.0093,10.9,84.1],[0.00631,2.53,125.0,0.00844,4.67,126.0,0.0103,6.3,80.9],[0.00465,3.92,109.0,0.0136,12.0,124.0,0.00498,2.13,79.6]`, the result I will be using is `[4.65e-03, 2.53e+00, 1.25e+02, 1.36e-02, 1.04e+01, 1.24e+02, 9.30e-03, 6.30e+00, 8.09e+01]`"
   ]
  },
  {
   "cell_type": "code",
   "execution_count": 4,
   "id": "c72ed9ca",
   "metadata": {},
   "outputs": [],
   "source": [
    "import json\n",
    "import numpy as np\n",
    "import pandas as pd\n",
    "data_list = [json.loads(line)\n",
    "        for line in open('aws_data.json', 'r', encoding='utf-8')]"
   ]
  },
  {
   "cell_type": "code",
   "execution_count": 5,
   "id": "1c21b727",
   "metadata": {},
   "outputs": [
    {
     "data": {
      "text/plain": [
       "1008933"
      ]
     },
     "execution_count": 5,
     "metadata": {},
     "output_type": "execute_result"
    }
   ],
   "source": [
    "len(data_list)"
   ]
  },
  {
   "cell_type": "code",
   "execution_count": null,
   "id": "4d35c89b",
   "metadata": {},
   "outputs": [],
   "source": [
    "counter=1\n",
    "first = 'aws_full_df_'\n",
    "last = '.csv'\n",
    "\n",
    "df = pd.DataFrame(columns=['Transcript Name', 'Position', 'Bases', 'Mean SD', 'Mean_Mean', 'Mean Dwelling Time', 'Median SD', 'Median_Mean', 'Median Dwelling Time'])\n",
    "for data in data_list:\n",
    "    transcript_name = []\n",
    "    position_num = []\n",
    "    bases_corresponding_to_position = []\n",
    "    for k, v in data.items(): # obtain transcript name and rest of the items\n",
    "        transcript_name.append(k)\n",
    "        transcript_name = transcript_name * 3\n",
    "        transcript_name = pd.DataFrame(transcript_name, columns=['Transcript Name'])\n",
    "        for i,j in v.items(): # obtain position and rest of items\n",
    "            position_num.append(int(i) - 1)\n",
    "            position_num.append(int(i))\n",
    "            position_num.append(int(i) + 1)\n",
    "            position_num = pd.DataFrame(position_num, columns = ['Position'])\n",
    "            for a,b in j.items(): # obtain bases and measurements - dwell time, etc.\n",
    "                bases_corresponding_to_position.append(a[:5])\n",
    "                bases_corresponding_to_position.append(a[1:6])\n",
    "                bases_corresponding_to_position.append(a[2:])\n",
    "                bases_corresponding_to_position = pd.DataFrame(bases_corresponding_to_position, columns = ['Bases'])\n",
    "\n",
    "                arr = np.array(b)\n",
    "                \n",
    "                # For median readings\n",
    "                median_measurement_res = np.median(arr, axis=0)\n",
    "                median_measurement_first_pos = median_measurement_res[0:3]\n",
    "                median_measurement_second_pos = median_measurement_res[3:6]\n",
    "                median_measurement_third_pos = median_measurement_res[6:]\n",
    "\n",
    "                median_measurement_first_pos = median_measurement_first_pos.reshape(1,3)\n",
    "                median_measurement_second_pos = median_measurement_second_pos.reshape(1,3)\n",
    "                median_measurement_third_pos = median_measurement_third_pos.reshape(1,3)\n",
    "                median_measurement_first_pos = pd.DataFrame.from_records(median_measurement_first_pos, columns = ['Median Dwelling Time', 'Median SD', 'Median_Mean'])\n",
    "                median_measurement_second_pos = pd.DataFrame.from_records(median_measurement_second_pos, columns = ['Median Dwelling Time', 'Median SD', 'Median_Mean'])\n",
    "                median_measurement_third_pos = pd.DataFrame.from_records(median_measurement_third_pos, columns = ['Median Dwelling Time', 'Median SD', 'Median_Mean'])\n",
    "\n",
    "                all_median_measurement = pd.concat([median_measurement_first_pos, median_measurement_second_pos, median_measurement_third_pos], axis=0).reset_index(drop=True)\n",
    "                \n",
    "                # For mean readings\n",
    "                mean_measurement_res = np.mean(arr, axis=0)\n",
    "                measurement_first_pos = mean_measurement_res[0:3]\n",
    "                measurement_second_pos = mean_measurement_res[3:6]\n",
    "                measurement_third_pos = mean_measurement_res[6:]\n",
    "\n",
    "                measurement_first_pos = measurement_first_pos.reshape(1,3)\n",
    "                measurement_second_pos = measurement_second_pos.reshape(1,3)\n",
    "                measurement_third_pos = measurement_third_pos.reshape(1,3)\n",
    "                measurement_first_pos = pd.DataFrame.from_records(measurement_first_pos, columns = ['Mean Dwelling Time', 'Mean SD', 'Mean_Mean'])\n",
    "                measurement_second_pos = pd.DataFrame.from_records(measurement_second_pos, columns = ['Mean Dwelling Time', 'Mean SD', 'Mean_Mean'])\n",
    "                measurement_third_pos = pd.DataFrame.from_records(measurement_third_pos, columns = ['Mean Dwelling Time', 'Mean SD', 'Mean_Mean'])\n",
    "\n",
    "                all_measurement = pd.concat([measurement_first_pos, measurement_second_pos, measurement_third_pos], axis=0).reset_index(drop=True)\n",
    "                \n",
    "                full_df = pd.concat([transcript_name, position_num, bases_corresponding_to_position, all_measurement, all_median_measurement], axis=1)\n",
    "\n",
    "                df = df.append(full_df).reset_index(drop=True)\n",
    "                \n",
    "                # codes to make concatenation more efficient\n",
    "                if len(df) == 100002:\n",
    "                    print(len(df))\n",
    "                    \n",
    "                    directory = first+str(counter)+last\n",
    "                    df.to_csv(directory)\n",
    "                    counter+=1\n",
    "#                     print(counter)\n",
    "#                     print(directory)\n",
    "                    \n",
    "                    # deleting df so that the concatenation time will be shorter\n",
    "                    del df\n",
    "                    df = pd.DataFrame(columns=['Transcript Name', 'Position', 'Bases', 'Mean SD', 'Mean_Mean', 'Mean Dwelling Time', 'Median SD', 'Median_Mean', 'Median Dwelling Time'])\n",
    "\n",
    "# For the final subset of data that is <= 100002 rows  \n",
    "directory = first+str(counter)+last\n",
    "df.to_csv(directory)"
   ]
  },
  {
   "cell_type": "code",
   "execution_count": null,
   "id": "a4204ad7",
   "metadata": {},
   "outputs": [],
   "source": []
  },
  {
   "cell_type": "code",
   "execution_count": null,
   "id": "91a714e7",
   "metadata": {
    "scrolled": true
   },
   "outputs": [],
   "source": [
    "df"
   ]
  },
  {
   "cell_type": "code",
   "execution_count": null,
   "id": "a17c5757",
   "metadata": {},
   "outputs": [],
   "source": [
    "df.info()"
   ]
  },
  {
   "cell_type": "code",
   "execution_count": null,
   "id": "04bd9233",
   "metadata": {},
   "outputs": [],
   "source": [
    "full_df.info()"
   ]
  },
  {
   "cell_type": "code",
   "execution_count": null,
   "id": "9d26cf05",
   "metadata": {},
   "outputs": [],
   "source": []
  }
 ],
 "metadata": {
  "kernelspec": {
   "display_name": "Python 3 (ipykernel)",
   "language": "python",
   "name": "python3"
  },
  "language_info": {
   "codemirror_mode": {
    "name": "ipython",
    "version": 3
   },
   "file_extension": ".py",
   "mimetype": "text/x-python",
   "name": "python",
   "nbconvert_exporter": "python",
   "pygments_lexer": "ipython3",
   "version": "3.9.7"
  }
 },
 "nbformat": 4,
 "nbformat_minor": 5
}
